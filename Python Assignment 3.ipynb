{
 "cells": [
  {
   "cell_type": "raw",
   "metadata": {},
   "source": [
    "1.1 Write a Python Program to implement your own myreduce() function which works exactly\n",
    "like Python's built-in function reduce()"
   ]
  },
  {
   "cell_type": "code",
   "execution_count": 13,
   "metadata": {},
   "outputs": [],
   "source": [
    "def myreduce(n):\n",
    " \n",
    "    n_list=list(range(1,n+1))\n",
    "    sum_1=0\n",
    "    \n",
    "    for i in n_list:\n",
    "        sum_1+=i\n",
    "        \n",
    "    return n_list , sum_1\n",
    " "
   ]
  },
  {
   "cell_type": "code",
   "execution_count": 15,
   "metadata": {},
   "outputs": [
    {
     "data": {
      "text/plain": [
       "([1, 2, 3, 4, 5], 15)"
      ]
     },
     "execution_count": 15,
     "metadata": {},
     "output_type": "execute_result"
    }
   ],
   "source": [
    "myreduce(6)"
   ]
  },
  {
   "cell_type": "raw",
   "metadata": {},
   "source": [
    "1.2 Write a Python program to implement your own myfilter() function which works exactly\n",
    "like Python's built-in function filter()"
   ]
  },
  {
   "cell_type": "code",
   "execution_count": 11,
   "metadata": {},
   "outputs": [
    {
     "name": "stdout",
     "output_type": "stream",
     "text": [
      "Input:\n",
      "Please insert the number: 25\n",
      "Output:\n",
      "List of numbers: [1, 2, 3, 4, 5, 6, 7, 8, 9, 10, 11, 12, 13, 14, 15, 16, 17, 18, 19, 20, 21, 22, 23, 24, 25]\n",
      "List of Even numbers, which are multiples of 5 are: [6, 12, 18, 24]\n",
      "List of Odd numbers, which are multiples of 5 are: [3, 9, 15, 21]\n"
     ]
    }
   ],
   "source": [
    "print(\"Input:\")\n",
    "n=int(input(\"Please insert the number: \"))\n",
    "\n",
    "new_list=list(range(1,n+1))\n",
    "\n",
    "\n",
    "def myfilter(new_list):\n",
    "    \n",
    "    even_list=[]\n",
    "    odd_list=[]\n",
    "    \n",
    "    for i in new_list:\n",
    "        if(i%3==0):\n",
    "            if(i%2==0):\n",
    "                even_list.append(i)\n",
    "            else:\n",
    "                odd_list.append(i)\n",
    "                \n",
    "    return even_list,odd_list\n",
    "\n",
    "\n",
    "output=myfilter(new_list)\n",
    "\n",
    "print(\"Output:\")\n",
    "print(\"List of numbers:\",new_list)\n",
    "print(\"List of Even numbers, which are multiples of 3 are:\",output[0])\n",
    "print(\"List of Odd numbers, which are multiples of 3 are:\",output[1])+ "
   ]
  },
  {
   "cell_type": "code",
   "execution_count": null,
   "metadata": {},
   "outputs": [],
   "source": []
  },
  {
   "cell_type": "raw",
   "metadata": {},
   "source": [
    "2. Implement List comprehensions to produce the following lists.\n",
    "Write List comprehensions to produce the following Lists\n",
    "\n",
    "['A', 'C', 'A', 'D', 'G', 'I', ’L’, ‘ D’]\n",
    "['x', 'xx', 'xxx', 'xxxx', 'y', 'yy', 'yyy', 'yyyy', 'z', 'zz', 'zzz', 'zzzz']\n",
    "['x', 'y', 'z', 'xx', 'yy', 'zz', 'xxx', 'yyy', 'zzz', 'xxxx', 'yyyy', 'zzzz']\n",
    "[[2], [3], [4], [3], [4], [5], [4], [5], [6]] [[2, 3, 4, 5], [3, 4, 5, 6],\n",
    "[4, 5, 6, 7], [5, 6, 7, 8]]\n",
    "[(1, 1), (2, 1), (3, 1), (1, 2), (2, 2), (3, 2), (1, 3), (2, 3), (3, 3)]"
   ]
  },
  {
   "cell_type": "code",
   "execution_count": 6,
   "metadata": {},
   "outputs": [
    {
     "name": "stdout",
     "output_type": "stream",
     "text": [
      "Output:\n",
      "['A', 'C', 'A', 'D', 'G', 'I', 'L', 'D']\n",
      "['x', 'xx', 'xxx', 'xxxx', 'y', 'yy', 'yyy', 'yyyy', 'z', 'zz', 'zzz', 'zzzz']\n",
      "['x', 'y', 'z', 'xx', 'yy', 'zz', 'xxx', 'yyy', 'zzz', 'xxxx', 'yyyy', 'zzzz']\n",
      "[[2], [3], [4], [3], [4], [5], [4], [5], [6]]\n",
      "[[2, 3, 4, 5], [3, 4, 5, 6], [4, 5, 6, 7], [5, 6, 7, 8]]\n",
      "[(1, 1), (2, 1), (3, 1), (1, 2), (2, 2), (3, 2), (1, 3), (2, 3), (3, 3)]\n"
     ]
    }
   ],
   "source": [
    "# 1\n",
    "w=\"AcadGild\"\n",
    "output_list=[w.upper() for w in list(w)]\n",
    "print(\"Output:\")\n",
    "print(output_list)\n",
    "\n",
    "# 2\n",
    "w_1=list('xyz')\n",
    "w_2=[x*n for x in w_1 for n in range(1,5) ]\n",
    "print(w_2)\n",
    "\n",
    "# 3\n",
    "w_3=[x*n for n in range(1,5) for x in w_1 ]\n",
    "print(w_3)\n",
    "\n",
    "# 4\n",
    "n=[2,3,4]\n",
    "n_1=[[x+n] for x in n for n in range(0,3)]\n",
    "print(n_1)\n",
    "\n",
    "# 5\n",
    "n_2=[2,3,4,5]\n",
    "n_3=[[x+n for n in range(0,4)] for x in n_2 ]\n",
    "print(n_3)\n",
    "\n",
    "#6\n",
    "n_4=[1,2,3]\n",
    "n_5= [(b,a) for a in number_4 for b in number_4]\n",
    "print(n_5)"
   ]
  },
  {
   "cell_type": "code",
   "execution_count": null,
   "metadata": {},
   "outputs": [],
   "source": []
  },
  {
   "cell_type": "code",
   "execution_count": null,
   "metadata": {},
   "outputs": [],
   "source": []
  }
 ],
 "metadata": {
  "kernelspec": {
   "display_name": "Python 3",
   "language": "python",
   "name": "python3"
  },
  "language_info": {
   "codemirror_mode": {
    "name": "ipython",
    "version": 3
   },
   "file_extension": ".py",
   "mimetype": "text/x-python",
   "name": "python",
   "nbconvert_exporter": "python",
   "pygments_lexer": "ipython3",
   "version": "3.8.5"
  }
 },
 "nbformat": 4,
 "nbformat_minor": 4
}
