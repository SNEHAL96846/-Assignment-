{
 "cells": [
  {
   "cell_type": "markdown",
   "metadata": {},
   "source": [
    "All unique\n",
    "The following method checks whether the given list has duplicate elements. It uses the property of set() which removes duplicate elements from the list."
   ]
  },
  {
   "cell_type": "code",
   "execution_count": 51,
   "metadata": {},
   "outputs": [
    {
     "data": {
      "text/plain": [
       "True"
      ]
     },
     "execution_count": 51,
     "metadata": {},
     "output_type": "execute_result"
    }
   ],
   "source": [
    "def all_unique(lst):\n",
    "    return len(lst) == len(set(lst))\n",
    "\n",
    "\n",
    "x = [1,1,2,2,3,2,3,4,5,6]\n",
    "y = [1,2,3,4,5]\n",
    "all_unique(x) \n",
    "all_unique(y) "
   ]
  },
  {
   "cell_type": "markdown",
   "metadata": {},
   "source": [
    "Anagrams\n",
    "This method can be used to check if two strings are anagrams. An anagram is a word or phrase formed by rearranging the letters of a different word or phrase, typically using all the original letters exactly once."
   ]
  },
  {
   "cell_type": "code",
   "execution_count": 2,
   "metadata": {},
   "outputs": [
    {
     "data": {
      "text/plain": [
       "True"
      ]
     },
     "execution_count": 2,
     "metadata": {},
     "output_type": "execute_result"
    }
   ],
   "source": [
    "from collections import Counter\n",
    "\n",
    "def anagram(first, second):\n",
    "    return Counter(first) == Counter(second)\n",
    "\n",
    "\n",
    "anagram(\"abcd3\", \"3acdb\") # True"
   ]
  },
  {
   "cell_type": "markdown",
   "metadata": {},
   "source": [
    "Memory\n",
    "This snippet can be used to check the memory usage of an object."
   ]
  },
  {
   "cell_type": "code",
   "execution_count": 3,
   "metadata": {},
   "outputs": [
    {
     "name": "stdout",
     "output_type": "stream",
     "text": [
      "28\n"
     ]
    }
   ],
   "source": [
    "import sys \n",
    "\n",
    "variable = 30 \n",
    "print(sys.getsizeof(variable))"
   ]
  },
  {
   "cell_type": "markdown",
   "metadata": {},
   "source": [
    "Byte size\n",
    "This method returns the length of a string in bytes."
   ]
  },
  {
   "cell_type": "code",
   "execution_count": 52,
   "metadata": {},
   "outputs": [
    {
     "data": {
      "text/plain": [
       "11"
      ]
     },
     "execution_count": 52,
     "metadata": {},
     "output_type": "execute_result"
    }
   ],
   "source": [
    "def byte_size(string):\n",
    "    return(len(string.encode('utf-8')))\n",
    "    \n",
    "    \n",
    "byte_size('😀') # 4\n",
    "byte_size('Hello World') # 11    "
   ]
  },
  {
   "cell_type": "markdown",
   "metadata": {},
   "source": [
    "Print a string N times\n",
    "This snippet can be used to print a string n times without having to use loops to do it."
   ]
  },
  {
   "cell_type": "code",
   "execution_count": 5,
   "metadata": {},
   "outputs": [
    {
     "name": "stdout",
     "output_type": "stream",
     "text": [
      "ProgrammingProgramming\n"
     ]
    }
   ],
   "source": [
    "n = 2\n",
    "s =\"Programming\"\n",
    "\n",
    "print(s * n) # ProgrammingProgramming"
   ]
  },
  {
   "cell_type": "markdown",
   "metadata": {},
   "source": [
    "Capitalize first letters\n",
    "This snippet simply uses the method title() to capitalize first letters of every word in a string."
   ]
  },
  {
   "cell_type": "code",
   "execution_count": 6,
   "metadata": {},
   "outputs": [
    {
     "name": "stdout",
     "output_type": "stream",
     "text": [
      "Programming Is Awesome\n"
     ]
    }
   ],
   "source": [
    "s = \"programming is awesome\"\n",
    "\n",
    "print(s.title()) # Programming Is Awesome"
   ]
  },
  {
   "cell_type": "markdown",
   "metadata": {},
   "source": [
    "Chunk\n",
    "This method chunks a list into smaller lists of a specified size."
   ]
  },
  {
   "cell_type": "code",
   "execution_count": 64,
   "metadata": {},
   "outputs": [],
   "source": [
    "def chunk(list, size):\n",
    "    return [list[i:i+size] for i in range(0,len(list), size)]"
   ]
  },
  {
   "cell_type": "markdown",
   "metadata": {},
   "source": [
    "Compact\n",
    "This method removes falsy values (False, None, 0 and “”) from a list by using filter()."
   ]
  },
  {
   "cell_type": "code",
   "execution_count": 1,
   "metadata": {},
   "outputs": [
    {
     "data": {
      "text/plain": [
       "[1, 2, 3, 'a', 's', 34]"
      ]
     },
     "execution_count": 1,
     "metadata": {},
     "output_type": "execute_result"
    }
   ],
   "source": [
    "def compact(lst):\n",
    "    return list(filter(None, lst)) \n",
    "compact([0, 1, False, 2, '', 3, 'a', 's', 34]) "
   ]
  },
  {
   "cell_type": "markdown",
   "metadata": {},
   "source": [
    "Count by\n",
    "This snippet can be used to transpose a 2D array."
   ]
  },
  {
   "cell_type": "code",
   "execution_count": 2,
   "metadata": {},
   "outputs": [
    {
     "name": "stdout",
     "output_type": "stream",
     "text": [
      "<zip object at 0x0000014DF5CB5440>\n"
     ]
    }
   ],
   "source": [
    "array = [['a', 'b'], ['c', 'd'], ['e', 'f']]\n",
    "transposed = zip(*array)\n",
    "print(transposed) # [('a', 'c', 'e'), ('b', 'd', 'f')]"
   ]
  },
  {
   "cell_type": "markdown",
   "metadata": {},
   "source": [
    "Chained comparison\n",
    "You can do multiple comparisons with all kinds of operators in a single line."
   ]
  },
  {
   "cell_type": "code",
   "execution_count": 12,
   "metadata": {},
   "outputs": [
    {
     "name": "stdout",
     "output_type": "stream",
     "text": [
      "True\n",
      "False\n"
     ]
    }
   ],
   "source": [
    "a = 3\n",
    "print( 2 < a < 8) # True\n",
    "print(1 == a < 2) # False"
   ]
  },
  {
   "cell_type": "markdown",
   "metadata": {},
   "source": [
    "Comma-separated\n",
    "This snippet can be used to turn a list of strings into a single string with each element from the list separated by commas."
   ]
  },
  {
   "cell_type": "code",
   "execution_count": 3,
   "metadata": {},
   "outputs": [
    {
     "name": "stdout",
     "output_type": "stream",
     "text": [
      "My hobbies are:\n",
      "basketball, football, swimming\n"
     ]
    }
   ],
   "source": [
    "hobbies = [\"basketball\", \"football\", \"swimming\"]\n",
    "\n",
    "print(\"My hobbies are:\") \n",
    "print(\", \".join(hobbies)) "
   ]
  },
  {
   "cell_type": "markdown",
   "metadata": {},
   "source": [
    "Get vowels\n",
    "This method gets vowels (‘a’, ‘e’, ‘i’, ‘o’, ‘u’) found in a string."
   ]
  },
  {
   "cell_type": "code",
   "execution_count": 14,
   "metadata": {},
   "outputs": [
    {
     "data": {
      "text/plain": [
       "[]"
      ]
     },
     "execution_count": 14,
     "metadata": {},
     "output_type": "execute_result"
    }
   ],
   "source": [
    "def get_vowels(string):\n",
    "    return [each for each in string if each in 'aeiou'] \n",
    "\n",
    "\n",
    "get_vowels('foobar') # ['o', 'o', 'a']\n",
    "get_vowels('gym') # []"
   ]
  },
  {
   "cell_type": "markdown",
   "metadata": {},
   "source": [
    "Decapitalize\n",
    "This method can be used to turn the first letter of the given string into lowercase."
   ]
  },
  {
   "cell_type": "code",
   "execution_count": 15,
   "metadata": {},
   "outputs": [
    {
     "data": {
      "text/plain": [
       "'fooBar'"
      ]
     },
     "execution_count": 15,
     "metadata": {},
     "output_type": "execute_result"
    }
   ],
   "source": [
    "def decapitalize(str):\n",
    "    return str[:1].lower() + str[1:]\n",
    "  \n",
    "  \n",
    "decapitalize('FooBar') # 'fooBar'\n",
    "decapitalize('FooBar') # 'fooBar'"
   ]
  },
  {
   "cell_type": "markdown",
   "metadata": {},
   "source": [
    " Flatten\n",
    "The following methods flatten a potentially deep list using recursion."
   ]
  },
  {
   "cell_type": "code",
   "execution_count": 16,
   "metadata": {},
   "outputs": [
    {
     "data": {
      "text/plain": [
       "[1, 2, 3, 4, 5]"
      ]
     },
     "execution_count": 16,
     "metadata": {},
     "output_type": "execute_result"
    }
   ],
   "source": [
    "def spread(arg):\n",
    "    ret = []\n",
    "    for i in arg:\n",
    "        if isinstance(i, list):\n",
    "            ret.extend(i)\n",
    "        else:\n",
    "            ret.append(i)\n",
    "    return ret\n",
    "\n",
    "def deep_flatten(xs):\n",
    "    flat_list = []\n",
    "    [flat_list.extend(deep_flatten(x)) for x in xs] if isinstance(xs, list) else flat_list.append(xs)\n",
    "    return flat_list\n",
    "\n",
    "\n",
    "deep_flatten([1, [2], [[3], 4], 5]) "
   ]
  },
  {
   "cell_type": "markdown",
   "metadata": {},
   "source": [
    "Difference\n",
    "This method finds the difference between two iterables by keeping only the values that are in the first one."
   ]
  },
  {
   "cell_type": "code",
   "execution_count": 17,
   "metadata": {},
   "outputs": [
    {
     "data": {
      "text/plain": [
       "[3]"
      ]
     },
     "execution_count": 17,
     "metadata": {},
     "output_type": "execute_result"
    }
   ],
   "source": [
    "def difference(a, b):\n",
    "    set_a = set(a)\n",
    "    set_b = set(b)\n",
    "    comparison = set_a.difference(set_b)\n",
    "    return list(comparison)\n",
    "\n",
    "\n",
    "difference([1,2,3], [1,2,4]) "
   ]
  },
  {
   "cell_type": "markdown",
   "metadata": {},
   "source": [
    "Difference by\n",
    "The following method returns the difference between two lists after applying a given function to each element of both lists."
   ]
  },
  {
   "cell_type": "code",
   "execution_count": 18,
   "metadata": {},
   "outputs": [
    {
     "data": {
      "text/plain": [
       "[{'x': 2}]"
      ]
     },
     "execution_count": 18,
     "metadata": {},
     "output_type": "execute_result"
    }
   ],
   "source": [
    "def difference_by(a, b, fn):\n",
    "    b = set(map(fn, b))\n",
    "    return [item for item in a if fn(item) not in b]\n",
    "\n",
    "\n",
    "from math import floor\n",
    "difference_by([2.1, 1.2], [2.3, 3.4], floor) \n",
    "difference_by([{ 'x': 2 }, { 'x': 1 }], [{ 'x': 1 }], lambda v : v['x']) # [ { x: 2 } ]"
   ]
  },
  {
   "cell_type": "markdown",
   "metadata": {},
   "source": [
    "Chained function call\n",
    "You can call multiple functions inside a single line"
   ]
  },
  {
   "cell_type": "code",
   "execution_count": 20,
   "metadata": {},
   "outputs": [
    {
     "name": "stdout",
     "output_type": "stream",
     "text": [
      "9\n"
     ]
    }
   ],
   "source": [
    "def add(a, b):\n",
    "    return a + b\n",
    "\n",
    "def subtract(a, b):\n",
    "    return a - b\n",
    "\n",
    "a, b = 4, 5\n",
    "print((subtract if a > b else add)(a, b)) # 9   "
   ]
  },
  {
   "cell_type": "markdown",
   "metadata": {},
   "source": [
    "Has duplicates\n",
    "The following method checks whether a list has duplicate values by using the fact that set() contains only unique elements."
   ]
  },
  {
   "cell_type": "code",
   "execution_count": 4,
   "metadata": {},
   "outputs": [
    {
     "data": {
      "text/plain": [
       "False"
      ]
     },
     "execution_count": 4,
     "metadata": {},
     "output_type": "execute_result"
    }
   ],
   "source": [
    "def has_duplicates(lst):\n",
    "    return len(lst) != len(set(lst))\n",
    "    \n",
    "    \n",
    "x = [1,2,3,4,5,5]\n",
    "y = [1,2,3,4,5]\n",
    "has_duplicates(x) # True\n",
    "has_duplicates(y) # False"
   ]
  },
  {
   "cell_type": "markdown",
   "metadata": {},
   "source": [
    " Merge two dictionaries\n",
    "The following method can be used to merge two dictionaries.\n"
   ]
  },
  {
   "cell_type": "code",
   "execution_count": 5,
   "metadata": {},
   "outputs": [
    {
     "name": "stdout",
     "output_type": "stream",
     "text": [
      "{'x': 1, 'y': 3, 'z': 4}\n"
     ]
    }
   ],
   "source": [
    "def merge_two_dicts(a, b):\n",
    "    c = a.copy()   # make a copy of a \n",
    "    c.update(b)    # modify keys and values of a with the ones from b\n",
    "    return c\n",
    "\n",
    "\n",
    "a = { 'x': 1, 'y': 2}\n",
    "b = { 'y': 3, 'z': 4}\n",
    "print(merge_two_dicts(a, b)) # {'y': 3, 'x': 1, 'z': 4}"
   ]
  },
  {
   "cell_type": "code",
   "execution_count": 21,
   "metadata": {},
   "outputs": [
    {
     "name": "stdout",
     "output_type": "stream",
     "text": [
      "{'x': 1, 'y': 3, 'z': 4}\n"
     ]
    }
   ],
   "source": [
    "def merge_dictionaries(a, b):\n",
    "   return {**a, **b}\n",
    "\n",
    "\n",
    "a = { 'x': 1, 'y': 2}\n",
    "b = { 'y': 3, 'z': 4}\n",
    "print(merge_dictionaries(a, b)) # {'y': 3, 'x': 1, 'z': 4}"
   ]
  },
  {
   "cell_type": "markdown",
   "metadata": {},
   "source": [
    "Convert two lists into a dictionary\n",
    "The following method can be used to convert two lists into a dictionary."
   ]
  },
  {
   "cell_type": "code",
   "execution_count": 22,
   "metadata": {},
   "outputs": [
    {
     "name": "stdout",
     "output_type": "stream",
     "text": [
      "{'a': 2, 'b': 3, 'c': 4}\n"
     ]
    }
   ],
   "source": [
    "def to_dictionary(keys, values):\n",
    "    return dict(zip(keys, values))\n",
    "    \n",
    "\n",
    "keys = [\"a\", \"b\", \"c\"]    \n",
    "values = [2, 3, 4]\n",
    "print(to_dictionary(keys, values)) # {'a': 2, 'c': 4, 'b': 3}"
   ]
  },
  {
   "cell_type": "markdown",
   "metadata": {},
   "source": [
    "Use enumerate\n",
    "This snippet shows that you can use enumerate to get both the values and the indexes of lists."
   ]
  },
  {
   "cell_type": "code",
   "execution_count": 6,
   "metadata": {},
   "outputs": [
    {
     "name": "stdout",
     "output_type": "stream",
     "text": [
      "Value a Index  0\n",
      "Value b Index  1\n",
      "Value c Index  2\n",
      "Value d Index  3\n"
     ]
    }
   ],
   "source": [
    "list = [\"a\", \"b\", \"c\", \"d\"]\n",
    "for index, element in enumerate(list): \n",
    "    print(\"Value\", element, \"Index \", index, )\n",
    "# ('Value', 'a', 'Index ', 0)\n",
    "# ('Value', 'b', 'Index ', 1)\n",
    "#('Value', 'c', 'Index ', 2)\n",
    "# ('Value', 'd', 'Index ', 3)    "
   ]
  },
  {
   "cell_type": "markdown",
   "metadata": {},
   "source": [
    "Time spent\n",
    "This snippet can be used to calculate the time it takes to execute a particular code."
   ]
  },
  {
   "cell_type": "code",
   "execution_count": 7,
   "metadata": {},
   "outputs": [
    {
     "name": "stdout",
     "output_type": "stream",
     "text": [
      "3\n",
      "Time:  0.0010006427764892578\n"
     ]
    }
   ],
   "source": [
    "import time\n",
    "\n",
    "start_time = time.time()\n",
    "\n",
    "a = 1\n",
    "b = 2\n",
    "c = a + b\n",
    "print(c) #3\n",
    "\n",
    "end_time = time.time()\n",
    "total_time = end_time - start_time\n",
    "print(\"Time: \", total_time)\n",
    "\n",
    "# ('Time: ', 1.1205673217773438e-05)\n"
   ]
  },
  {
   "cell_type": "markdown",
   "metadata": {},
   "source": [
    "Try else\n",
    "You can have an else clause as part of a try/except block, which is executed if no exception is thrown.\n"
   ]
  },
  {
   "cell_type": "code",
   "execution_count": 25,
   "metadata": {},
   "outputs": [
    {
     "name": "stdout",
     "output_type": "stream",
     "text": [
      "Thank God, no exceptions were raised.\n"
     ]
    }
   ],
   "source": [
    "try:\n",
    "    2*3\n",
    "except TypeError:\n",
    "    print(\"An exception was raised\")\n",
    "else:\n",
    "    print(\"Thank God, no exceptions were raised.\")\n"
   ]
  },
  {
   "cell_type": "markdown",
   "metadata": {},
   "source": [
    "Most frequent\n",
    "This method returns the most frequent element that appears in a list.\n"
   ]
  },
  {
   "cell_type": "code",
   "execution_count": 8,
   "metadata": {},
   "outputs": [
    {
     "data": {
      "text/plain": [
       "2"
      ]
     },
     "execution_count": 8,
     "metadata": {},
     "output_type": "execute_result"
    }
   ],
   "source": [
    "def most_frequent(list):\n",
    "    return max(set(list), key = list.count)\n",
    "  \n",
    "\n",
    "numbers = [1,2,1,2,3,2,1,4,2]\n",
    "most_frequent(numbers)  "
   ]
  },
  {
   "cell_type": "markdown",
   "metadata": {},
   "source": [
    "Palindrome\n",
    "This method checks whether a given string is a palindrome.\n"
   ]
  },
  {
   "cell_type": "code",
   "execution_count": 9,
   "metadata": {},
   "outputs": [
    {
     "data": {
      "text/plain": [
       "True"
      ]
     },
     "execution_count": 9,
     "metadata": {},
     "output_type": "execute_result"
    }
   ],
   "source": [
    "def palindrome(a):\n",
    "    return a == a[::-1]\n",
    "\n",
    "\n",
    "palindrome('mom') # True"
   ]
  },
  {
   "cell_type": "markdown",
   "metadata": {},
   "source": [
    "Calculator without if-else\n",
    "The following snippet shows how you can write a simple calculator without the need to use if-else conditions."
   ]
  },
  {
   "cell_type": "code",
   "execution_count": 10,
   "metadata": {},
   "outputs": [
    {
     "name": "stdout",
     "output_type": "stream",
     "text": [
      "25\n"
     ]
    }
   ],
   "source": [
    "import operator\n",
    "action = {\n",
    "    \"+\": operator.add,\n",
    "    \"-\": operator.sub,\n",
    "    \"/\": operator.truediv,\n",
    "    \"*\": operator.mul,\n",
    "    \"**\": pow\n",
    "}\n",
    "print(action['-'](50, 25))"
   ]
  },
  {
   "cell_type": "markdown",
   "metadata": {},
   "source": [
    "Shuffle\n",
    "This snippet can be used to randomize the order of the elements in a list. Note that shuffle works in place, and returns None.\n"
   ]
  },
  {
   "cell_type": "code",
   "execution_count": 11,
   "metadata": {},
   "outputs": [
    {
     "name": "stdout",
     "output_type": "stream",
     "text": [
      "[2, 3, 1, 4]\n"
     ]
    }
   ],
   "source": [
    "from random import shuffle\n",
    "\n",
    "foo = [1, 2, 3, 4]\n",
    "shuffle(foo) \n",
    "print(foo) # [1, 4, 3, 2] , foo = [1, 2, 3, 4]"
   ]
  },
  {
   "cell_type": "markdown",
   "metadata": {},
   "source": [
    "Spread\n",
    "This method flattens a list similarly like [].concat(…arr) in JavaScript."
   ]
  },
  {
   "cell_type": "code",
   "execution_count": null,
   "metadata": {},
   "outputs": [],
   "source": [
    "def spread(arg):\n",
    "    ret = []\n",
    "    for i in arg:\n",
    "        if isinstance(i, list):\n",
    "            ret.extend(i)\n",
    "        else:\n",
    "            ret.append(i)\n",
    "    return ret\n",
    "\n",
    "\n",
    "spread([1,2,3,[4,5,6],[7],8,9]) # [1,2,3,4,5,6,7,8,9]"
   ]
  },
  {
   "cell_type": "markdown",
   "metadata": {},
   "source": [
    "Swap values\n",
    "This is a really quick way for swapping two variables without having to use an additional one.\n"
   ]
  },
  {
   "cell_type": "code",
   "execution_count": 13,
   "metadata": {},
   "outputs": [
    {
     "name": "stdout",
     "output_type": "stream",
     "text": [
      "14\n",
      "-1\n"
     ]
    }
   ],
   "source": [
    "a, b = -1, 14\n",
    "a, b = b, a\n",
    "\n",
    "print(a) # 14\n",
    "print(b) # -1"
   ]
  },
  {
   "cell_type": "markdown",
   "metadata": {},
   "source": [
    "Get default value for missing keys\n",
    "This snippet shows how you can get a default value in case a key you are looking for is not included in the dictionary.\n"
   ]
  },
  {
   "cell_type": "code",
   "execution_count": 12,
   "metadata": {},
   "outputs": [
    {
     "name": "stdout",
     "output_type": "stream",
     "text": [
      "3\n"
     ]
    }
   ],
   "source": [
    "d = {'a': 1, 'b': 2}\n",
    "\n",
    "print(d.get('c', 3)) "
   ]
  },
  {
   "cell_type": "markdown",
   "metadata": {},
   "source": [
    "Reversing a String\n",
    "The following snippet reverses a string using the Python slicing operation.\n"
   ]
  },
  {
   "cell_type": "code",
   "execution_count": 29,
   "metadata": {},
   "outputs": [
    {
     "name": "stdout",
     "output_type": "stream",
     "text": [
      "EDCBA\n"
     ]
    }
   ],
   "source": [
    "my_string = \"ABCDE\"\n",
    "reversed_string = my_string[::-1]\n",
    "\n",
    "print(reversed_string)\n"
   ]
  },
  {
   "cell_type": "markdown",
   "metadata": {},
   "source": [
    "Using rhe Title Case (First Letter Caps)\n",
    "The following snippet can be used to convert a string to title case. This is done using the title() method of the string class."
   ]
  },
  {
   "cell_type": "code",
   "execution_count": 15,
   "metadata": {},
   "outputs": [
    {
     "name": "stdout",
     "output_type": "stream",
     "text": [
      "My Name Is Snehal Nawade\n"
     ]
    }
   ],
   "source": [
    "my_string = \"my name is snehal nawade\"\n",
    "\n",
    "# using the title() function of string class\n",
    "new_string = my_string.title()\n",
    "\n",
    "print(new_string)\n"
   ]
  },
  {
   "cell_type": "markdown",
   "metadata": {},
   "source": [
    "Finding Unique Elements in a String\n",
    "The following snippet can be used to find all the unique elements in a string. We use the property that all elements in a set are unique.\n"
   ]
  },
  {
   "cell_type": "code",
   "execution_count": 17,
   "metadata": {},
   "outputs": [
    {
     "name": "stdout",
     "output_type": "stream",
     "text": [
      "eavcd\n"
     ]
    }
   ],
   "source": [
    "my_string = \"aavvccccddddeee\"\n",
    "\n",
    "# converting the string to a set\n",
    "temp_set = set(my_string)\n",
    "\n",
    "# stitching set into a string using join\n",
    "new_string = ''.join(temp_set)\n",
    "\n",
    "print(new_string)"
   ]
  },
  {
   "cell_type": "markdown",
   "metadata": {},
   "source": [
    "Printing a String or a List n Times\n",
    "You can use multiplication (*) with strings or lists. This allows us to multiply them as many times as we like."
   ]
  },
  {
   "cell_type": "code",
   "execution_count": 18,
   "metadata": {},
   "outputs": [
    {
     "name": "stdout",
     "output_type": "stream",
     "text": [
      "abcdabcdabcd\n",
      "[1, 2, 3, 1, 2, 3, 1, 2, 3]\n"
     ]
    }
   ],
   "source": [
    "n = 3 # number of repetitions\n",
    "\n",
    "my_string = \"abcd\"\n",
    "my_list = [1,2,3]\n",
    "\n",
    "print(my_string*n)\n",
    "# abcdabcdabcd\n",
    "\n",
    "print(my_list*n)\n"
   ]
  },
  {
   "cell_type": "markdown",
   "metadata": {},
   "source": [
    "List Comprehension\n",
    "List comprehension provides us with an elegant way of creating lists based on other lists.\n",
    "The following snippet creates a new list by multiplying each element of the old list by two."
   ]
  },
  {
   "cell_type": "code",
   "execution_count": 20,
   "metadata": {},
   "outputs": [
    {
     "name": "stdout",
     "output_type": "stream",
     "text": [
      "[2, 4, 6, 8]\n"
     ]
    }
   ],
   "source": [
    "# Multiplying each element in a list by 2\n",
    "\n",
    "original_list = [1,2,3,4]\n",
    "\n",
    "new_list = [2*x for x in original_list]\n",
    "\n",
    "print(new_list)\n"
   ]
  },
  {
   "cell_type": "markdown",
   "metadata": {},
   "source": [
    "Swap Values Between Two Variables\n",
    "Python makes it quite simple to swap values between two variables without using another variable."
   ]
  },
  {
   "cell_type": "code",
   "execution_count": 33,
   "metadata": {},
   "outputs": [
    {
     "name": "stdout",
     "output_type": "stream",
     "text": [
      "2\n",
      "1\n"
     ]
    }
   ],
   "source": [
    "a = 1\n",
    "b = 2\n",
    "\n",
    "a, b = b, a\n",
    "\n",
    "print(a) # 2\n",
    "print(b) # 1"
   ]
  },
  {
   "cell_type": "markdown",
   "metadata": {},
   "source": [
    "Split a String Into a List of Substrings\n",
    "We can split a string into a list of substrings using the .split() method in the string class. You can also pass as an argument the separator on which you wish to split."
   ]
  },
  {
   "cell_type": "code",
   "execution_count": 21,
   "metadata": {},
   "outputs": [
    {
     "name": "stdout",
     "output_type": "stream",
     "text": [
      "['My', 'name', 'is', 'Chaitanya', 'Baweja']\n",
      "['sample', ' string 2']\n"
     ]
    }
   ],
   "source": [
    "string_1 = \"My name is Chaitanya Baweja\"\n",
    "string_2 = \"sample/ string 2\"\n",
    "\n",
    "# default separator ' '\n",
    "print(string_1.split())\n",
    "# ['My', 'name', 'is', 'Chaitanya', 'Baweja']\n",
    "\n",
    "# defining separator as '/'\n",
    "print(string_2.split('/'))\n",
    "# ['sample', ' string 2']"
   ]
  },
  {
   "cell_type": "markdown",
   "metadata": {},
   "source": [
    "Combining a List of Strings Into a Single String\n",
    "The join() method combines a list of strings passed as an argument into a single string. In our case, we separate them using the comma separator."
   ]
  },
  {
   "cell_type": "code",
   "execution_count": 25,
   "metadata": {},
   "outputs": [
    {
     "name": "stdout",
     "output_type": "stream",
     "text": [
      "My,name,is,snehal,nawade\n"
     ]
    }
   ],
   "source": [
    "list_of_strings = ['My', 'name', 'is', 'snehal', 'nawade']\n",
    "\n",
    "# Using join with the comma separator\n",
    "print(','.join(list_of_strings))"
   ]
  },
  {
   "cell_type": "markdown",
   "metadata": {},
   "source": [
    "Check If a Given String Is a Palindrome or Not\n",
    "We have already discussed how to reverse a string. So palindromes become a straightforward program in Python."
   ]
  },
  {
   "cell_type": "code",
   "execution_count": 26,
   "metadata": {},
   "outputs": [
    {
     "name": "stdout",
     "output_type": "stream",
     "text": [
      "palindrome\n"
     ]
    }
   ],
   "source": [
    "my_string = \"abcba\"\n",
    "\n",
    "if my_string == my_string[::-1]:\n",
    "    print(\"palindrome\")\n",
    "else:\n",
    "    print(\"not palindrome\")\n"
   ]
  },
  {
   "cell_type": "markdown",
   "metadata": {},
   "source": [
    "Frequency of Elements in a List\n",
    "There are multiple ways of doing this, but my favorite is using the Python Counter class.\n",
    "Python counter keeps track of the frequency of each element in the container. Counter() returns a dictionary with elements as keys and frequency as values.\n",
    "We also use the most_common() function to get the most_frequent element in the list."
   ]
  },
  {
   "cell_type": "code",
   "execution_count": 34,
   "metadata": {},
   "outputs": [
    {
     "name": "stdout",
     "output_type": "stream",
     "text": [
      "Counter({'d': 5, 'b': 3, 'a': 2, 'c': 1})\n",
      "3\n",
      "[('d', 5)]\n"
     ]
    }
   ],
   "source": [
    "# finding frequency of each element in a list\n",
    "from collections import Counter\n",
    "\n",
    "my_list = ['a','a','b','b','b','c','d','d','d','d','d']\n",
    "count = Counter(my_list) # defining a counter object\n",
    "\n",
    "print(count) # Of all elements\n",
    "# Counter({'d': 5, 'b': 3, 'a': 2, 'c': 1})\n",
    "\n",
    "print(count['b']) # of individual element\n",
    "# 3\n",
    "\n",
    "print(count.most_common(1)) # most frequent element\n",
    "# [('d', 5)]"
   ]
  },
  {
   "cell_type": "markdown",
   "metadata": {},
   "source": [
    "Find Whether Two Strings are Anagrams\n",
    "An interesting application of the Counter class is to find anagrams.\n",
    "An anagram is a word or phrase formed by rearranging the letters of a different word or phrase.\n",
    "If the Counter objects of two strings are equal, then they are anagrams."
   ]
  },
  {
   "cell_type": "code",
   "execution_count": 37,
   "metadata": {},
   "outputs": [
    {
     "name": "stdout",
     "output_type": "stream",
     "text": [
      "1 and 2 anagram\n"
     ]
    }
   ],
   "source": [
    "from collections import Counter\n",
    "\n",
    "str_1, str_2, str_3 = \"acbde\", \"abced\", \"abcda\"\n",
    "cnt_1, cnt_2, cnt_3  = Counter(str_1), Counter(str_2), Counter(str_3)\n",
    "\n",
    "if cnt_1 == cnt_2:\n",
    "    print('1 and 2 anagram')\n",
    "if cnt_1 == cnt_3:\n",
    "    print('1 and 3 anagram')"
   ]
  },
  {
   "cell_type": "markdown",
   "metadata": {},
   "source": [
    "Using the try-except-else Block\n",
    "Error handling in Python can be done easily using the try/except block. Adding an else statement to this block might be useful. It’s run when there is no exception raised in the try block.\n",
    "If you need to run something irrespective of exception, use finally."
   ]
  },
  {
   "cell_type": "code",
   "execution_count": 38,
   "metadata": {},
   "outputs": [
    {
     "name": "stdout",
     "output_type": "stream",
     "text": [
      "division by zero\n",
      "Run this always\n"
     ]
    }
   ],
   "source": [
    "a, b = 1,0\n",
    "\n",
    "try:\n",
    "    print(a/b)\n",
    "    # exception raised when b is 0\n",
    "except ZeroDivisionError:\n",
    "    print(\"division by zero\")\n",
    "else:\n",
    "    print(\"no exceptions raised\")\n",
    "finally:\n",
    "    print(\"Run this always\")"
   ]
  },
  {
   "cell_type": "markdown",
   "metadata": {},
   "source": [
    "Using Enumerate to Get Index/Value Pairs\n",
    "The following script uses enumerate to iterate through values in a list along with their indices.\n"
   ]
  },
  {
   "cell_type": "code",
   "execution_count": 39,
   "metadata": {},
   "outputs": [
    {
     "name": "stdout",
     "output_type": "stream",
     "text": [
      "0: a\n",
      "1: b\n",
      "2: c\n",
      "3: d\n",
      "4: e\n"
     ]
    }
   ],
   "source": [
    "my_list = ['a', 'b', 'c', 'd', 'e']\n",
    "\n",
    "for index, value in enumerate(my_list):\n",
    "    print('{0}: {1}'.format(index, value))\n"
   ]
  },
  {
   "cell_type": "markdown",
   "metadata": {},
   "source": [
    "Check the Memory Usage of an Object\n",
    "The following script can be used to check the memory usage of an object. Read more about it here.\n"
   ]
  },
  {
   "cell_type": "code",
   "execution_count": 41,
   "metadata": {},
   "outputs": [
    {
     "name": "stdout",
     "output_type": "stream",
     "text": [
      "28\n"
     ]
    }
   ],
   "source": [
    "import sys\n",
    "\n",
    "num = 21\n",
    "\n",
    "print(sys.getsizeof(num))"
   ]
  },
  {
   "cell_type": "markdown",
   "metadata": {},
   "source": [
    "Merging Two Dictionaries\n",
    "While in Python 2, we used the update() method to merge two dictionaries; Python 3.5 made the process even simpler.\n",
    "In the script given below, two dictionaries are merged. Values from the second dictionary are used in case of intersections."
   ]
  },
  {
   "cell_type": "code",
   "execution_count": 27,
   "metadata": {},
   "outputs": [
    {
     "name": "stdout",
     "output_type": "stream",
     "text": [
      "{'apple': 9, 'banana': 4, 'orange': 8}\n"
     ]
    }
   ],
   "source": [
    "dict_1 = {'apple': 9, 'banana': 6}\n",
    "dict_2 = {'banana': 4, 'orange': 8}\n",
    "\n",
    "combined_dict = {**dict_1, **dict_2}\n",
    "\n",
    "print(combined_dict)\n"
   ]
  },
  {
   "cell_type": "markdown",
   "metadata": {},
   "source": [
    "Sampling From a List\n",
    "The following snippet generates n number of random samples from a given list using the random library."
   ]
  },
  {
   "cell_type": "code",
   "execution_count": 31,
   "metadata": {},
   "outputs": [
    {
     "name": "stdout",
     "output_type": "stream",
     "text": [
      "['e', 'c']\n"
     ]
    }
   ],
   "source": [
    "import random\n",
    "\n",
    "my_list = ['a', 'b', 'c', 'd', 'e']\n",
    "num_samples = 2\n",
    "\n",
    "samples = random.sample(my_list,num_samples)\n",
    "print(samples)"
   ]
  },
  {
   "cell_type": "code",
   "execution_count": 32,
   "metadata": {},
   "outputs": [
    {
     "name": "stdout",
     "output_type": "stream",
     "text": [
      "['a', 'd']\n"
     ]
    }
   ],
   "source": [
    "import secrets                              # imports secure module.\n",
    "secure_random = secrets.SystemRandom()      # creates a secure random object.\n",
    "\n",
    "my_list = ['a','b','c','d','e']\n",
    "num_samples = 2\n",
    "\n",
    "samples = secure_random.sample(my_list, num_samples)\n",
    "\n",
    "print(samples)\n"
   ]
  },
  {
   "cell_type": "markdown",
   "metadata": {},
   "source": [
    "Check for Uniqueness\n",
    "The following function will check if all elements in a list are unique or not."
   ]
  },
  {
   "cell_type": "code",
   "execution_count": 34,
   "metadata": {},
   "outputs": [
    {
     "name": "stdout",
     "output_type": "stream",
     "text": [
      "All elements are unique\n",
      "List has duplicates\n"
     ]
    }
   ],
   "source": [
    "def unique(l):\n",
    "    if len(l)==len(set(l)):\n",
    "        print(\"All elements are unique\")\n",
    "    else:\n",
    "        print(\"List has duplicates\")\n",
    "\n",
    "unique([1,2,3,4])\n",
    "# All elements are unique\n",
    "\n",
    "unique([1,1,2,3])\n",
    "# List has duplicates"
   ]
  }
 ],
 "metadata": {
  "kernelspec": {
   "display_name": "Python 3",
   "language": "python",
   "name": "python3"
  },
  "language_info": {
   "codemirror_mode": {
    "name": "ipython",
    "version": 3
   },
   "file_extension": ".py",
   "mimetype": "text/x-python",
   "name": "python",
   "nbconvert_exporter": "python",
   "pygments_lexer": "ipython3",
   "version": "3.8.5"
  }
 },
 "nbformat": 4,
 "nbformat_minor": 4
}
