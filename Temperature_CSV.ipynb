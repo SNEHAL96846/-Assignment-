{
 "cells": [
  {
   "cell_type": "markdown",
   "metadata": {},
   "source": [
    "Write a program which will read this file and will output warmest city in the month of Jan"
   ]
  },
  {
   "cell_type": "code",
   "execution_count": 1,
   "metadata": {},
   "outputs": [
    {
     "name": "stdout",
     "output_type": "stream",
     "text": [
      "warmest city for month of Jan is  Dili\n"
     ]
    }
   ],
   "source": [
    "file = open('CityWeather (1).csv','r')\n",
    "next(file)\n",
    "city=''\n",
    "temp=0.0\n",
    "cities=[] \n",
    "\n",
    "for each in file:\n",
    "    line=each.split(\",\")\n",
    "    temp=float(line[2])\n",
    "    city=line[1]\n",
    "    cities.append((city,temp))\n",
    "    \n",
    "cities.sort(key=lambda x:x[1],reverse=True)\n",
    "\n",
    "warmest_city=cities[0][0]\n",
    "print(\"warmest city for month of Jan is \",warmest_city)"
   ]
  },
  {
   "cell_type": "markdown",
   "metadata": {},
   "source": [
    "2] Write a program which will read this file and output top 5 warmest cities in the month of Feb"
   ]
  },
  {
   "cell_type": "code",
   "execution_count": 2,
   "metadata": {},
   "outputs": [
    {
     "name": "stdout",
     "output_type": "stream",
     "text": [
      "top 5 warmest cities in month of feb are\n",
      "Bangkok\n",
      "Phnom Penh\n",
      "Male\n",
      "Dili\n",
      "Manila\n"
     ]
    }
   ],
   "source": [
    "file = open('CityWeather (1).csv','r')\n",
    "next(file)\n",
    "city=''\n",
    "temp=0.0\n",
    "cities=[] \n",
    "\n",
    "for each in file:\n",
    "    line=each.split(\",\")\n",
    "    temp=float(line[3])\n",
    "    city=line[1]\n",
    "    cities.append((city,temp))\n",
    "    \n",
    "cities.sort(key=lambda x:x[1],reverse=True)   \n",
    "warmest_city=cities[0:5]\n",
    "print(\"top 5 warmest cities in month of feb are\")\n",
    "for i in warmest_city:\n",
    "    print(i[0])"
   ]
  },
  {
   "cell_type": "markdown",
   "metadata": {},
   "source": [
    "3] Write a program which will read this file and will output warmest and coldest city in the month of Jan"
   ]
  },
  {
   "cell_type": "code",
   "execution_count": 3,
   "metadata": {},
   "outputs": [
    {
     "name": "stdout",
     "output_type": "stream",
     "text": [
      "warmest city for month of Jan is  Dili\n",
      "coldest city for month of Jan is  Yakutsk\n"
     ]
    }
   ],
   "source": [
    "file = open('CityWeather (1).csv','r')\n",
    "next(file)\n",
    "city=''\n",
    "temp=0.0\n",
    "cities=[] \n",
    "\n",
    "for each in file:\n",
    "    line=each.split(\",\")\n",
    "    temp=float(line[2])\n",
    "    city=line[1]\n",
    "    cities.append((city,temp))\n",
    "    \n",
    "cities.sort(key=lambda x:x[1],reverse=True)\n",
    "warmest_city=cities[0][0]   \n",
    "print(\"warmest city for month of Jan is \",warmest_city)\n",
    "\n",
    "cities.sort(key=lambda x:x[1])\n",
    "coldest_city=cities[0][0]\n",
    "print(\"coldest city for month of Jan is \",coldest_city)"
   ]
  },
  {
   "cell_type": "markdown",
   "metadata": {},
   "source": [
    "4] Write a program which will read this file and will output top 5 warmest and top 5 coldest cities in the month of Mar"
   ]
  },
  {
   "cell_type": "code",
   "execution_count": 4,
   "metadata": {},
   "outputs": [
    {
     "name": "stdout",
     "output_type": "stream",
     "text": [
      "top 5 warmest cities in month of March are\n",
      "Bangkok\n",
      "Phnom Penh\n",
      "Nakhon Ratchasima\n",
      "Mandalay\n",
      "Manila\n",
      "\n",
      "top 5 coldest cities in month of March are\n",
      "Dikson\n",
      "Yakutsk\n",
      "Novosibirsk\n",
      "Ulaanbaatar\n",
      "Astana\n"
     ]
    }
   ],
   "source": [
    "file = open('CityWeather (1).csv','r')\n",
    "next(file)\n",
    "city=''\n",
    "temp=0.0\n",
    "cities=[] \n",
    "\n",
    "for each in file:\n",
    "    line=each.split(\",\")\n",
    "    temp=float(line[4])\n",
    "    city=line[1]\n",
    "    cities.append((city,temp))\n",
    "    \n",
    "cities.sort(key=lambda x:x[1],reverse=True)\n",
    "warmest_city=cities[0:5]\n",
    "print(\"top 5 warmest cities in month of March are\")\n",
    "for i in warmest_city:\n",
    "    print(i[0])\n",
    "\n",
    "cities.sort(key=lambda x:x[1])\n",
    "coldest_city=cities[0:5]\n",
    "print(\"\\ntop 5 coldest cities in month of March are\")\n",
    "for i in coldest_city:\n",
    "    print(i[0])"
   ]
  },
  {
   "cell_type": "markdown",
   "metadata": {},
   "source": [
    "5] Write a program which will take two inputs 1) file “CityWeather.csv” 2) name of the month (e.g. Jan or Jun etc). The program shall provide output of top 5 warmest cities and top 5 coldest cities for the given month"
   ]
  },
  {
   "cell_type": "code",
   "execution_count": 5,
   "metadata": {},
   "outputs": [],
   "source": [
    "def top_warm_cold_cities(filepath,month,top):\n",
    "    file=open(filepath,'r')\n",
    "    city=''\n",
    "    temp=0.0\n",
    "    cities=[]\n",
    "    warmest_cities=[]\n",
    "    coldest_cities=[]\n",
    "    next(file)\n",
    "    month_index={'January':2,'February':3,'March':4,'April':5,'May':6,'June':7,'July':8,'August':9,'September':10,'October':11\n",
    "                ,'November':12,'December':13}\n",
    "       \n",
    "    for each in file:\n",
    "        line=each.split(\",\")\n",
    "        temp=float(line[month_index[month]])\n",
    "        city=line[1]\n",
    "        cities.append((city,temp))\n",
    "    \n",
    "    cities.sort(key=lambda x:x[1],reverse=True)\n",
    "    \n",
    "    for each in cities[0:top]:\n",
    "        warmest_cities.append(each[0])\n",
    "    \n",
    "    cities.sort(key=lambda x:x[1])\n",
    "    \n",
    "    for each in cities[0:top]:\n",
    "        coldest_cities.append(each[0])\n",
    "    \n",
    "    c=[warmest_cities,coldest_cities]\n",
    "    \n",
    "    return c\n"
   ]
  },
  {
   "cell_type": "code",
   "execution_count": 7,
   "metadata": {},
   "outputs": [
    {
     "name": "stdout",
     "output_type": "stream",
     "text": [
      "top 5 warmest cities in month April are\n",
      "Mandalay\n",
      "Yangon\n",
      "Kolkata\n",
      "Bangkok\n",
      "Phnom Penh\n",
      "\n",
      "\n",
      "top 5 coldest cities in month April are\n",
      "Dikson\n",
      "Yakutsk\n",
      "Petropavlovsk-\n",
      "Ulaanbaatar\n",
      "Novosibirsk\n"
     ]
    }
   ],
   "source": [
    "filepath=\"CityWeather (1).csv\"\n",
    "month=\"April\"\n",
    "top=5\n",
    "cities=top_warm_cold_cities(filepath,month,top)\n",
    "warmest_cities=cities[0]\n",
    "coldest_cities=cities[1]\n",
    "\n",
    "print(\"top %d warmest cities in month %s are\"  % (top,month))\n",
    "for each in warmest_cities:\n",
    "    print(each)\n",
    "    \n",
    "print(\"\\n\")\n",
    "      \n",
    "print(\"top %d coldest cities in month %s are\" % (top,month))\n",
    "for each in coldest_cities:\n",
    "    print(each)"
   ]
  },
  {
   "cell_type": "code",
   "execution_count": null,
   "metadata": {},
   "outputs": [],
   "source": []
  },
  {
   "cell_type": "code",
   "execution_count": null,
   "metadata": {},
   "outputs": [],
   "source": []
  }
 ],
 "metadata": {
  "kernelspec": {
   "display_name": "Python 3",
   "language": "python",
   "name": "python3"
  },
  "language_info": {
   "codemirror_mode": {
    "name": "ipython",
    "version": 3
   },
   "file_extension": ".py",
   "mimetype": "text/x-python",
   "name": "python",
   "nbconvert_exporter": "python",
   "pygments_lexer": "ipython3",
   "version": "3.8.5"
  }
 },
 "nbformat": 4,
 "nbformat_minor": 4
}
